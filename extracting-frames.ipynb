{
 "cells": [
  {
   "cell_type": "code",
   "execution_count": null,
   "metadata": {},
   "outputs": [],
   "source": [
    "import os\n",
    "import cv2\n",
    "\n",
    "\n",
    "def extract_frames(video_path, output_dir):\n",
    "    \"\"\"Extract frames from video at 1-second intervals and save them if different from previous frame\"\"\"\n",
    "    # Create output directory if it doesn't exist\n",
    "    os.makedirs(output_dir, exist_ok=True)\n",
    "    cap = cv2.VideoCapture(video_path)\n",
    "    fps = cap.get(cv2.CAP_PROP_FPS)\n",
    "\n",
    "    frame_count = 0\n",
    "    save_count = 0\n",
    "    prev_frame = None\n",
    "\n",
    "    while True:\n",
    "        ret, frame = cap.read()\n",
    "        if not ret:\n",
    "            break\n",
    "\n",
    "        # Save frame if it corresponds to a second mark (based on FPS)\n",
    "        if frame_count % int(fps) == 0:\n",
    "            # Compare with previous frame if it exists\n",
    "            if prev_frame is not None:\n",
    "                # Calculate mean squared error between frames\n",
    "                diff = cv2.absdiff(frame, prev_frame)\n",
    "                mse = (diff**2).mean()\n",
    "                print(\"mse\", mse)\n",
    "\n",
    "                # Only save if frames are different enough (adjust threshold as needed)\n",
    "                if mse > 15:  # Threshold value can be adjusted\n",
    "                    frame_path = os.path.join(output_dir, f\"frame-{save_count:04d}.jpg\")\n",
    "                    cv2.imwrite(frame_path, frame)\n",
    "                    save_count += 1\n",
    "            else:\n",
    "                # Always save the first frame\n",
    "                frame_path = os.path.join(output_dir, f\"frame-{save_count:04d}.jpg\")\n",
    "                cv2.imwrite(frame_path, frame)\n",
    "                save_count += 1\n",
    "\n",
    "            prev_frame = frame.copy()\n",
    "\n",
    "        frame_count += 1\n",
    "\n",
    "    cap.release()\n",
    "    global FRAME_COUNT\n",
    "    FRAME_COUNT = save_count\n",
    "    return\n",
    "\n",
    "\n",
    "extract_frames(\"rising-tea-2.mp4\", \"frames-tea-2\")\n",
    "extract_frames(\"rising-tea-3.mp4\", \"frames-tea-3\")\n",
    "extract_frames(\"small-pan.mp4\", \"frames-small-pan\")\n",
    "extract_frames(\"big-pan.mp4\", \"frames-big-pan\")\n"
   ]
  },
  {
   "cell_type": "code",
   "execution_count": 4,
   "metadata": {},
   "outputs": [
    {
     "name": "stdout",
     "output_type": "stream",
     "text": [
      "\n",
      "Processing directory: test-images\n",
      "Deleted download.jpg - size: 225x225\n"
     ]
    }
   ],
   "source": [
    "# ... existing code ...\n",
    "import os\n",
    "import cv2\n",
    "def delete_small_images(directory, min_size=400):\n",
    "    \"\"\"Delete images smaller than minimum width or height\"\"\"\n",
    "    for filename in os.listdir(directory):\n",
    "        if filename.endswith(('.jpg', '.jpeg', '.png')):\n",
    "            image_path = os.path.join(directory, filename)\n",
    "            img = cv2.imread(image_path)\n",
    "            \n",
    "            if img is not None:\n",
    "                height, width = img.shape[:2]\n",
    "                if width < min_size and height < min_size:\n",
    "                    os.remove(image_path)\n",
    "                    print(f\"Deleted {filename} - size: {width}x{height}\")\n",
    "\n",
    "# Process each directory\n",
    "directories = [\"test-images\"]\n",
    "for dir in directories:\n",
    "    if os.path.exists(dir):\n",
    "        print(f\"\\nProcessing directory: {dir}\")\n",
    "        delete_small_images(dir)"
   ]
  },
  {
   "cell_type": "code",
   "execution_count": null,
   "metadata": {},
   "outputs": [],
   "source": []
  }
 ],
 "metadata": {
  "kernelspec": {
   "display_name": "venv",
   "language": "python",
   "name": "python3"
  },
  "language_info": {
   "codemirror_mode": {
    "name": "ipython",
    "version": 3
   },
   "file_extension": ".py",
   "mimetype": "text/x-python",
   "name": "python",
   "nbconvert_exporter": "python",
   "pygments_lexer": "ipython3",
   "version": "3.12.4"
  }
 },
 "nbformat": 4,
 "nbformat_minor": 2
}
